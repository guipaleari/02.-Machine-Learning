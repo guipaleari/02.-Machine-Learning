{
 "cells": [
  {
   "cell_type": "markdown",
   "metadata": {},
   "source": [
    "# Random Forest and AdaBoost\n",
    "\n",
    "1. Compare AdaBoost (regression), Bagging and Random Forest on Boston\n",
    "      - Plot the error of Random Forest for different values of `mtry`\n",
    "      - Are the recommended values for mtry the best?\n",
    "      - Plot the error of Random Forest for different tree sizes\n",
    "2. Study the effect of tree complexity on Bagging, Random Forest and AdaBoost on a classification dataset (e.g. Diabetes)\n",
    "    - Use a fixed number of estimators (trees) such as 100 or 200.\n",
    "    - How sensistive is each method to tree complexity?\n",
    "    - Do you observe overfitting when trees are fully grown?\n",
    "    - Which method makes the best ensemble of decision stumps?\n",
    "3. Plot the boundaries on a bi-dimensional artificial dataset (or 2d iris) with\n",
    "    - AdaBoost with 5 trees\n",
    "    - AdaBoost with 100 trees\n",
    "    - Compare with 5NN and with Bagging \n",
    "4. Consider Boston Housing dataset. What is the effect of Bagging:\n",
    "    - On Linear Regression?\n",
    "    - On 1NN?\n",
    "    - On 30NN?"
   ]
  },
  {
   "cell_type": "code",
   "execution_count": null,
   "metadata": {},
   "outputs": [],
   "source": [
    "# A kind of answer for 4\n",
    "\n",
    "from sklearn.datasets import load_boston\n",
    "from sklearn.ensemble import BaggingRegressor\n",
    "from sklearn.model_selection import cross_val_score\n",
    "from sklearn.linear_model import LinearRegression\n",
    "from sklearn.neighbors import KNeighborsRegressor as kNR\n",
    "import numpy as np\n",
    "\n",
    "X,y = load_boston(return_X_y=True)\n",
    "\n",
    "ebl=np.mean(-cross_val_score(BaggingRegressor(LinearRegression(),n_estimators=100),X,y,scoring='neg_root_mean_squared_error'))\n",
    "el=np.mean(-cross_val_score(LinearRegression(),X,y,scoring='neg_root_mean_squared_error'))\n",
    "\n",
    "eb1k=np.mean(-cross_val_score(BaggingRegressor(kNR(n_neighbors=1),n_estimators=100),X,y,scoring='neg_root_mean_squared_error'))\n",
    "e1k=np.mean(-cross_val_score(kNR(n_neighbors=30),X,y,scoring='neg_root_mean_squared_error'))\n",
    "eb,el,eb1k, e1k"
   ]
  }
 ],
 "metadata": {
  "kernelspec": {
   "display_name": "Python 3",
   "language": "python",
   "name": "python3"
  },
  "language_info": {
   "codemirror_mode": {
    "name": "ipython",
    "version": 3
   },
   "file_extension": ".py",
   "mimetype": "text/x-python",
   "name": "python",
   "nbconvert_exporter": "python",
   "pygments_lexer": "ipython3",
   "version": "3.8.3"
  }
 },
 "nbformat": 4,
 "nbformat_minor": 4
}

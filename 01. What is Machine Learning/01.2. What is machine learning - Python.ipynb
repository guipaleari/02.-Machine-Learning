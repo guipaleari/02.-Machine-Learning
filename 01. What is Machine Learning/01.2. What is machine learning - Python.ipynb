{
 "cells": [
  {
   "cell_type": "code",
   "execution_count": 167,
   "metadata": {},
   "outputs": [
    {
     "data": {
      "text/html": [
       "<div>\n",
       "<style scoped>\n",
       "    .dataframe tbody tr th:only-of-type {\n",
       "        vertical-align: middle;\n",
       "    }\n",
       "\n",
       "    .dataframe tbody tr th {\n",
       "        vertical-align: top;\n",
       "    }\n",
       "\n",
       "    .dataframe thead th {\n",
       "        text-align: right;\n",
       "    }\n",
       "</style>\n",
       "<table border=\"1\" class=\"dataframe\">\n",
       "  <thead>\n",
       "    <tr style=\"text-align: right;\">\n",
       "      <th></th>\n",
       "      <th>club</th>\n",
       "      <th>budget</th>\n",
       "      <th>position</th>\n",
       "    </tr>\n",
       "  </thead>\n",
       "  <tbody>\n",
       "    <tr>\n",
       "      <th>0</th>\n",
       "      <td>Porto</td>\n",
       "      <td>100.0</td>\n",
       "      <td>1</td>\n",
       "    </tr>\n",
       "    <tr>\n",
       "      <th>1</th>\n",
       "      <td>Benfica</td>\n",
       "      <td>70.0</td>\n",
       "      <td>2</td>\n",
       "    </tr>\n",
       "    <tr>\n",
       "      <th>2</th>\n",
       "      <td>Sporting</td>\n",
       "      <td>36.0</td>\n",
       "      <td>7</td>\n",
       "    </tr>\n",
       "    <tr>\n",
       "      <th>3</th>\n",
       "      <td>Sp. Braga</td>\n",
       "      <td>15.0</td>\n",
       "      <td>4</td>\n",
       "    </tr>\n",
       "    <tr>\n",
       "      <th>4</th>\n",
       "      <td>Marítimo</td>\n",
       "      <td>6.0</td>\n",
       "      <td>10</td>\n",
       "    </tr>\n",
       "    <tr>\n",
       "      <th>5</th>\n",
       "      <td>V. Guimarães</td>\n",
       "      <td>5.5</td>\n",
       "      <td>9</td>\n",
       "    </tr>\n",
       "    <tr>\n",
       "      <th>6</th>\n",
       "      <td>Nacional</td>\n",
       "      <td>4.0</td>\n",
       "      <td>8</td>\n",
       "    </tr>\n",
       "    <tr>\n",
       "      <th>7</th>\n",
       "      <td>Gil Vicente</td>\n",
       "      <td>3.6</td>\n",
       "      <td>13</td>\n",
       "    </tr>\n",
       "    <tr>\n",
       "      <th>8</th>\n",
       "      <td>Académica</td>\n",
       "      <td>3.4</td>\n",
       "      <td>11</td>\n",
       "    </tr>\n",
       "    <tr>\n",
       "      <th>9</th>\n",
       "      <td>Rio Ave</td>\n",
       "      <td>3.4</td>\n",
       "      <td>6</td>\n",
       "    </tr>\n",
       "    <tr>\n",
       "      <th>10</th>\n",
       "      <td>P. Ferreira</td>\n",
       "      <td>2.5</td>\n",
       "      <td>3</td>\n",
       "    </tr>\n",
       "    <tr>\n",
       "      <th>11</th>\n",
       "      <td>Estoril</td>\n",
       "      <td>2.5</td>\n",
       "      <td>5</td>\n",
       "    </tr>\n",
       "    <tr>\n",
       "      <th>12</th>\n",
       "      <td>Moreirense</td>\n",
       "      <td>2.5</td>\n",
       "      <td>15</td>\n",
       "    </tr>\n",
       "    <tr>\n",
       "      <th>13</th>\n",
       "      <td>Beira-Mar</td>\n",
       "      <td>1.8</td>\n",
       "      <td>16</td>\n",
       "    </tr>\n",
       "    <tr>\n",
       "      <th>14</th>\n",
       "      <td>Olhanense</td>\n",
       "      <td>1.4</td>\n",
       "      <td>14</td>\n",
       "    </tr>\n",
       "    <tr>\n",
       "      <th>15</th>\n",
       "      <td>V. Setúbal</td>\n",
       "      <td>1.2</td>\n",
       "      <td>12</td>\n",
       "    </tr>\n",
       "  </tbody>\n",
       "</table>\n",
       "</div>"
      ],
      "text/plain": [
       "            club  budget  position\n",
       "0          Porto   100.0         1\n",
       "1        Benfica    70.0         2\n",
       "2       Sporting    36.0         7\n",
       "3      Sp. Braga    15.0         4\n",
       "4       Marítimo     6.0        10\n",
       "5   V. Guimarães     5.5         9\n",
       "6       Nacional     4.0         8\n",
       "7    Gil Vicente     3.6        13\n",
       "8      Académica     3.4        11\n",
       "9        Rio Ave     3.4         6\n",
       "10   P. Ferreira     2.5         3\n",
       "11       Estoril     2.5         5\n",
       "12    Moreirense     2.5        15\n",
       "13     Beira-Mar     1.8        16\n",
       "14     Olhanense     1.4        14\n",
       "15    V. Setúbal     1.2        12"
      ]
     },
     "execution_count": 167,
     "metadata": {},
     "output_type": "execute_result"
    }
   ],
   "source": [
    "import matplotlib.pyplot as plt\n",
    "import numpy as np \n",
    "from sklearn.linear_model import LinearRegression\n",
    "import pandas as pd\n",
    "\n",
    "# create a dataframe from scratch using a dictionary\n",
    "league = pd.DataFrame({\n",
    "    'club': ['Porto', 'Benfica', 'Sporting',  'Sp. Braga',  'Marítimo',  'V. Guimarães', 'Nacional', 'Gil Vicente', 'Académica', 'Rio Ave', 'P. Ferreira', 'Estoril', 'Moreirense', 'Beira-Mar', 'Olhanense', 'V. Setúbal'],\n",
    "    'budget': [100, 70, 36, 15, 6, 5.5, 4, 3.6, 3.4, 3.4, 2.5, 2.5, 2.5, 1.8, 1.4, 1.2],\n",
    "    'position': [1,2,7,4,10,9,8,13,11,6,3,5,15,16,14,12]\n",
    "})\n",
    "\n",
    "league"
   ]
  },
  {
   "cell_type": "code",
   "execution_count": 168,
   "metadata": {},
   "outputs": [
    {
     "data": {
      "image/png": "[encoded data removed]",
      "text/plain": [
       "<Figure size 432x288 with 1 Axes>"
      ]
     },
     "metadata": {
      "needs_background": "light"
     },
     "output_type": "display_data"
    }
   ],
   "source": [
    "ax=plt.axes()\n",
    "ax.scatter(league.budget,league.position)\n",
    "ax.set(xlabel='budget')\n",
    "ax.set(ylabel='position'); # this semicolon supresses the output of this command. Try without"
   ]
  },
  {
   "cell_type": "markdown",
   "metadata": {},
   "source": [
    "## How does the model approximate the true function?\n",
    "\n",
    "### Calculate the residuals"
   ]
  },
  {
   "cell_type": "code",
   "execution_count": 186,
   "metadata": {},
   "outputs": [
    {
     "name": "stdout",
     "output_type": "stream",
     "text": [
      "position = 10.174389249860445 + -0.103517109728621 *budget\n"
     ]
    }
   ],
   "source": [
    "# Using x and y as shorthands\n",
    "# Convert the df columns to numpy arrays\n",
    "\n",
    "x=np.array(league.budget)\n",
    "X=x[:,np.newaxis] # newaxis gives X the shape of a matrix. Try without\n",
    "y=np.array(league.position)\n",
    "\n",
    "model = LinearRegression(fit_intercept=True)\n",
    "model.fit(X,y)\n",
    "\n",
    "# Pretty print model\n",
    "beta1=model.coef_[0]\n",
    "beta0=model.intercept_\n",
    "\n",
    "print('position =',beta0,'+',beta1,'*budget')"
   ]
  },
  {
   "cell_type": "code",
   "execution_count": 187,
   "metadata": {},
   "outputs": [
    {
     "data": {
      "text/plain": [
       "array([ 1.17732172, -0.92819157,  0.5522267 , -4.6216326 ,  0.44671341,\n",
       "       -0.60504515, -1.76032081,  3.19827235,  1.17756892, -3.82243108,\n",
       "       -6.91559648, -4.91559648,  5.08440352,  6.01194155,  3.9705347 ,\n",
       "        1.94983128])"
      ]
     },
     "execution_count": 187,
     "metadata": {},
     "output_type": "execute_result"
    }
   ],
   "source": [
    "ypred=model.predict(X)\n",
    "residuals=y-ypred\n",
    "residuals"
   ]
  },
  {
   "cell_type": "code",
   "execution_count": 171,
   "metadata": {},
   "outputs": [
    {
     "data": {
      "text/plain": [
       "207.35317559374502"
      ]
     },
     "execution_count": 171,
     "metadata": {},
     "output_type": "execute_result"
    }
   ],
   "source": [
    "# Residual Sum of Squares\n",
    "\n",
    "sum(residuals**2)"
   ]
  },
  {
   "cell_type": "code",
   "execution_count": 188,
   "metadata": {},
   "outputs": [
    {
     "name": "stdout",
     "output_type": "stream",
     "text": [
      "Residuals summary:\n",
      "min = -6.916\n",
      "Q1 = -2.276\n",
      "Q2 = 0.499\n",
      "Q3 = 2.262\n",
      "max = 6.012\n"
     ]
    }
   ],
   "source": [
    "quartiles = np.percentile(residuals, [25, 50, 75])\n",
    "maxr=max(residuals)\n",
    "minr=min(residuals)\n",
    "\n",
    "# Printing with format (%). We define number of digits to ptint in floats (.3f)\n",
    "print('Residuals summary:')\n",
    "print('min = %.3f' % minr)\n",
    "for i in range(3): \n",
    "    print('Q%i = %.3f' % (i+1, quartiles[i]))\n",
    "print('max = %.3f' % maxr)"
   ]
  },
  {
   "cell_type": "code",
   "execution_count": 189,
   "metadata": {},
   "outputs": [
    {
     "name": "stdout",
     "output_type": "stream",
     "text": [
      "                             Test for Constraints                             \n",
      "==============================================================================\n",
      "                 coef    std err          t      P>|t|      [0.025      0.975]\n",
      "------------------------------------------------------------------------------\n",
      "c0            10.1744      1.113      9.142      0.000       7.787      12.561\n",
      "c1            -0.1035      0.035     -2.993      0.010      -0.178      -0.029\n",
      "==============================================================================\n"
     ]
    }
   ],
   "source": [
    "# Analysis\n",
    "import statsmodels.api as sm\n",
    "\n",
    "X2 = sm.add_constant(X) # add the intercept\n",
    "model2 = sm.OLS(y, X2).fit()\n",
    "print(model2.t_test([[1,0],[0,1]]))"
   ]
  },
  {
   "cell_type": "markdown",
   "metadata": {},
   "source": [
    "A high *p-value* for the coefficient $\\beta_i$, with $i \\ne 0$ implies that the variable $x_i$ is not correlated with the target $y$. The low *p-values* (<0.05) tell us that we can believe the coefficients are different from zero. The null hypothesis, for each variable, is that $\\beta_i = 0$."
   ]
  },
  {
   "cell_type": "code",
   "execution_count": 190,
   "metadata": {},
   "outputs": [
    {
     "name": "stdout",
     "output_type": "stream",
     "text": [
      "                             Test for Constraints                             \n",
      "==============================================================================\n",
      "                 coef    std err          t      P>|t|      [0.025      0.975]\n",
      "------------------------------------------------------------------------------\n",
      "c0             0.9032      0.291      3.103      0.004       0.307       1.500\n",
      "c1            -0.0002      0.017     -0.013      0.990      -0.036       0.035\n",
      "==============================================================================\n"
     ]
    }
   ],
   "source": [
    "# Try extreme regression cases and see the effect on the p-values\n",
    "\n",
    "from numpy import random\n",
    "\n",
    "X2=np.array(range(30))\n",
    "X2=np.array([1]*29+[1.000001])\n",
    "#X2=random.randint(3,size=30)\n",
    "X2=np.array(range(30))\n",
    "y2=random.randint(3,size=30)\n",
    "Xc = sm.add_constant(X2) # add the intercept\n",
    "model2 = sm.OLS(y2, Xc).fit()\n",
    "print(model2.t_test([[1,0],[0,1]]))"
   ]
  },
  {
   "cell_type": "code",
   "execution_count": 191,
   "metadata": {},
   "outputs": [
    {
     "data": {
      "image/png": "[encoded data removed]",
      "text/plain": [
       "<Figure size 432x288 with 1 Axes>"
      ]
     },
     "metadata": {
      "needs_background": "light"
     },
     "output_type": "display_data"
    }
   ],
   "source": [
    "# plot the regression line against the points\n",
    "\n",
    "xfit = np.array([0,max(x)])\n",
    "\n",
    "# newaxis gives xfit the shape of a matrix\n",
    "yfit = model.predict(xfit[:,np.newaxis])\n",
    "\n",
    "# the building of the plot starts by defining an axes\n",
    "# then you put the scatter plot on the axes\n",
    "# you set a number of things on the axes\n",
    "# etc.\n",
    "# the build of the plot is axes centered\n",
    "ax=plt.axes()\n",
    "ax.scatter(x, y)\n",
    "ax.set_ylabel('position')\n",
    "ax.set_xlabel('budget')\n",
    "ax.plot(xfit, yfit,color='red');"
   ]
  },
  {
   "cell_type": "code",
   "execution_count": 192,
   "metadata": {},
   "outputs": [
    {
     "data": {
      "text/plain": [
       "array([10.16403754, 10.07087214,  9.6568037 ,  9.13921815, -0.17732172])"
      ]
     },
     "execution_count": 192,
     "metadata": {},
     "output_type": "execute_result"
    }
   ],
   "source": [
    "# Did we find a useful approximation?\n",
    "# Let's try some test cases\n",
    "\n",
    "xtest=np.array([0.1,1,5,10,100])\n",
    "Xtest=xtest[:,np.newaxis] # Xtest is a matrix now\n",
    "ypred = model.predict(Xtest)\n",
    "ypred"
   ]
  },
  {
   "cell_type": "code",
   "execution_count": 193,
   "metadata": {},
   "outputs": [
    {
     "data": {
      "text/plain": [
       "[10, 10, 10, 9, 0]"
      ]
     },
     "execution_count": 193,
     "metadata": {},
     "output_type": "execute_result"
    }
   ],
   "source": [
    "# The output is a float, so we should round to an integer\n",
    "list(map(lambda predpos: int(np.round(predpos,0)),ypred))"
   ]
  },
  {
   "cell_type": "code",
   "execution_count": 197,
   "metadata": {},
   "outputs": [
    {
     "name": "stdout",
     "output_type": "stream",
     "text": [
      "R2 of the linear model is 0.390\n"
     ]
    }
   ],
   "source": [
    "# How good is the model on average?\n",
    "# We will measure R2 of the model\n",
    "\n",
    "print('R2 of the linear model is %.3f' % model.score(X,y))\n"
   ]
  },
  {
   "cell_type": "code",
   "execution_count": 162,
   "metadata": {},
   "outputs": [
    {
     "data": {
      "image/png": "[encoded data removed]",
      "text/plain": [
       "<Figure size 432x288 with 1 Axes>"
      ]
     },
     "metadata": {
      "needs_background": "light"
     },
     "output_type": "display_data"
    }
   ],
   "source": [
    "# We can transform the variable to improve learning\n",
    "# We can now 'see' a more clear relation\n",
    "\n",
    "logbudget=np.array(np.log(league.budget))\n",
    "\n",
    "ax=plt.axes()\n",
    "ax.scatter(logbudget,league.position)\n",
    "ax.set(xlabel='log(budget)')\n",
    "ax.set(ylabel='position'); # this semicolon supresses the output of this command. Try without"
   ]
  },
  {
   "cell_type": "code",
   "execution_count": 195,
   "metadata": {},
   "outputs": [
    {
     "data": {
      "image/png": "[encoded data removed]",
      "text/plain": [
       "<Figure size 432x288 with 1 Axes>"
      ]
     },
     "metadata": {
      "needs_background": "light"
     },
     "output_type": "display_data"
    }
   ],
   "source": [
    "Xlog=logbudget[:,np.newaxis] # newaxis gives x the shape of a matrix. Try without\n",
    "\n",
    "modellog = LinearRegression(fit_intercept=True)\n",
    "modellog.fit(Xlog,y)\n",
    "\n",
    "xfit = np.array([0,max(logbudget)])\n",
    "Xfit = xfit[:,np.newaxis]\n",
    "# newaxis gives xfit the shape of a matrix\n",
    "yfit = modellog.predict(Xfit)\n",
    "\n",
    "# the building of the plot starts by defining an axes\n",
    "# then you put the scatter plot on the axes\n",
    "# you set a number of things on the axes\n",
    "# etc.\n",
    "# the build of the plot is axes centered\n",
    "ax=plt.axes()\n",
    "ax.scatter(logbudget, y)\n",
    "ax.set_ylabel('position')\n",
    "ax.set_xlabel('log(budget)')\n",
    "ax.plot(xfit, yfit,color='red');"
   ]
  },
  {
   "cell_type": "code",
   "execution_count": 196,
   "metadata": {},
   "outputs": [
    {
     "name": "stdout",
     "output_type": "stream",
     "text": [
      "position = 12.678175123071064 + -2.421080156219609 *log(budget)\n"
     ]
    }
   ],
   "source": [
    "# Pretty print model with log transform\n",
    "\n",
    "beta1=modellog.coef_[0]\n",
    "beta0=modellog.intercept_\n",
    "\n",
    "print('position =',beta0,'+',beta1,'*log(budget)')"
   ]
  },
  {
   "cell_type": "code",
   "execution_count": 199,
   "metadata": {},
   "outputs": [
    {
     "name": "stdout",
     "output_type": "stream",
     "text": [
      "R2 of the linear model with the log transform is 0.474\n"
     ]
    }
   ],
   "source": [
    "print('R2 of the linear model with the log transform is %.3f' % modellog.score(Xlog,y))"
   ]
  },
  {
   "cell_type": "markdown",
   "metadata": {},
   "source": [
    "The log transform of the input variable *budget* improved the R2 of the model."
   ]
  },
  {
   "cell_type": "code",
   "execution_count": 203,
   "metadata": {},
   "outputs": [
    {
     "data": {
      "text/plain": [
       "[18, 13, 9, 7, 2]"
      ]
     },
     "execution_count": 203,
     "metadata": {},
     "output_type": "execute_result"
    }
   ],
   "source": [
    "# Did we find a useful approximation?\n",
    "# Let's try some test cases\n",
    "\n",
    "xtest=np.log(np.array([0.1,1,5,10,100]))\n",
    "Xtest=xtest[:,np.newaxis] # Xtest is a matrix now\n",
    "ypred = modellog.predict(Xtest)\n",
    "ypred\n",
    "\n",
    "list(map(lambda predpos: int(np.round(predpos,0)),ypred))"
   ]
  },
  {
   "cell_type": "markdown",
   "metadata": {},
   "source": [
    "Predictions now *seem* more accurate."
   ]
  }
 ],
 "metadata": {
  "kernelspec": {
   "display_name": "Python 3",
   "language": "python",
   "name": "python3"
  },
  "language_info": {
   "codemirror_mode": {
    "name": "ipython",
    "version": 3
   },
   "file_extension": ".py",
   "mimetype": "text/x-python",
   "name": "python",
   "nbconvert_exporter": "python",
   "pygments_lexer": "ipython3",
   "version": "3.8.3"
  }
 },
 "nbformat": 4,
 "nbformat_minor": 4
}
